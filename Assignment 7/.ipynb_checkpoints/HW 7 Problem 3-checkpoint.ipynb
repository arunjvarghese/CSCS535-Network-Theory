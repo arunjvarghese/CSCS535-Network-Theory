{
 "cells": [
  {
   "cell_type": "code",
   "execution_count": 361,
   "metadata": {
    "collapsed": true
   },
   "outputs": [],
   "source": [
    "import networkx as nx\n",
    "import os\n",
    "import scipy as sp\n",
    "import numpy\n",
    "import math"
   ]
  },
  {
   "cell_type": "code",
   "execution_count": 362,
   "metadata": {
    "collapsed": false
   },
   "outputs": [],
   "source": [
    "#read in graph\n",
    "G = nx.read_gml(str(os.getcwd())+\"/polblogs.gml\")"
   ]
  },
  {
   "cell_type": "code",
   "execution_count": 363,
   "metadata": {
    "collapsed": false
   },
   "outputs": [],
   "source": [
    "# convert to undirected\n",
    "G = G.to_undirected()"
   ]
  },
  {
   "cell_type": "code",
   "execution_count": 364,
   "metadata": {
    "collapsed": true
   },
   "outputs": [],
   "source": [
    "# adjacency matrix\n",
    "G_mat = nx.adjacency_matrix(G)"
   ]
  },
  {
   "cell_type": "code",
   "execution_count": 365,
   "metadata": {
    "collapsed": false
   },
   "outputs": [
    {
     "data": {
      "text/plain": [
       "matrix([[26],\n",
       "        [45],\n",
       "        [ 0],\n",
       "        ..., \n",
       "        [ 1],\n",
       "        [18],\n",
       "        [ 1]])"
      ]
     },
     "execution_count": 365,
     "metadata": {},
     "output_type": "execute_result"
    }
   ],
   "source": [
    "# get degrees\n",
    "G_mat.sum(axis=1)"
   ]
  },
  {
   "cell_type": "code",
   "execution_count": 366,
   "metadata": {
    "collapsed": false
   },
   "outputs": [
    {
     "name": "stdout",
     "output_type": "stream",
     "text": [
      "16781\n"
     ]
    }
   ],
   "source": [
    "# get number of edges\n",
    "M = G_mat.sum()/2\n",
    "print(M)"
   ]
  },
  {
   "cell_type": "code",
   "execution_count": 367,
   "metadata": {
    "collapsed": false
   },
   "outputs": [
    {
     "name": "stdout",
     "output_type": "stream",
     "text": [
      "1490\n"
     ]
    }
   ],
   "source": [
    "num_nodes = len(G_mat.sum(axis=1))\n",
    "print num_nodes"
   ]
  },
  {
   "cell_type": "code",
   "execution_count": 368,
   "metadata": {
    "collapsed": false
   },
   "outputs": [],
   "source": [
    "# create vector holding node degrees\n",
    "deg_vec = sp.sparse.csr_matrix((G_mat.sum(axis=1)))\n",
    "# get transpose\n",
    "deg_vec_transpose = sp.sparse.csr_matrix.transpose(deg_vec)"
   ]
  },
  {
   "cell_type": "code",
   "execution_count": 369,
   "metadata": {
    "collapsed": false
   },
   "outputs": [],
   "source": [
    "# multiply degree vectors to get matrix of k_i * k_j\n",
    "deg_matrix = deg_vec*deg_vec_transpose"
   ]
  },
  {
   "cell_type": "code",
   "execution_count": 370,
   "metadata": {
    "collapsed": false
   },
   "outputs": [],
   "source": [
    "# divide by number of edges\n",
    "deg_matrix = deg_matrix/M"
   ]
  },
  {
   "cell_type": "code",
   "execution_count": 371,
   "metadata": {
    "collapsed": false
   },
   "outputs": [],
   "source": [
    "# modularity matrix\n",
    "modu_matrix = G_mat - deg_matrix"
   ]
  },
  {
   "cell_type": "code",
   "execution_count": 372,
   "metadata": {
    "collapsed": false
   },
   "outputs": [],
   "source": [
    "# find leading eigenvalue and eigenvector of modularity matrix\n",
    "eigenvalues = sp.sparse.linalg.eigsh(modu_matrix,k=1, which='LA')"
   ]
  },
  {
   "cell_type": "code",
   "execution_count": 373,
   "metadata": {
    "collapsed": false
   },
   "outputs": [
    {
     "name": "stdout",
     "output_type": "stream",
     "text": [
      "[[-1.]\n",
      " [-1.]\n",
      " [-1.]\n",
      " ..., \n",
      " [ 1.]\n",
      " [ 1.]\n",
      " [ 1.]]\n"
     ]
    }
   ],
   "source": [
    "# negative eigenvalues classified as -1, positive eigenvalues classified as 1\n",
    "classification = (eigenvalues[1])*(1/abs(eigenvalues[1]))\n",
    "print classification"
   ]
  },
  {
   "cell_type": "code",
   "execution_count": 374,
   "metadata": {
    "collapsed": false
   },
   "outputs": [
    {
     "data": {
      "text/plain": [
       "array([-1., -1., -1., ...,  1.,  1.,  1.])"
      ]
     },
     "execution_count": 374,
     "metadata": {},
     "output_type": "execute_result"
    }
   ],
   "source": [
    "# convert to array\n",
    "classification_iter = (float(i) for i in classification)\n",
    "classification_array = numpy.fromiter(classification_iter, numpy.float)\n",
    "classification_array"
   ]
  },
  {
   "cell_type": "code",
   "execution_count": 377,
   "metadata": {
    "collapsed": false,
    "scrolled": true
   },
   "outputs": [
    {
     "name": "stdout",
     "output_type": "stream",
     "text": [
      "[-1. -1. -1. ...,  1.  1.  1.]\n"
     ]
    }
   ],
   "source": [
    "# array of true types \n",
    "# (need to match however groups are given during classification)\n",
    "iterable = (-1 if G.node[i]['value']==0 else 1 for i in range(1,1491) )\n",
    "true_types = numpy.fromiter(iterable, numpy.float)\n",
    "print true_types"
   ]
  },
  {
   "cell_type": "code",
   "execution_count": 381,
   "metadata": {
    "collapsed": false
   },
   "outputs": [
    {
     "data": {
      "text/plain": [
       "0.8697986577181208"
      ]
     },
     "execution_count": 381,
     "metadata": {},
     "output_type": "execute_result"
    }
   ],
   "source": [
    "# percent correct\n",
    "float(sum(eval))/float(len(eval))"
   ]
  }
 ],
 "metadata": {
  "kernelspec": {
   "display_name": "Python 2",
   "language": "python",
   "name": "python2"
  },
  "language_info": {
   "codemirror_mode": {
    "name": "ipython",
    "version": 2
   },
   "file_extension": ".py",
   "mimetype": "text/x-python",
   "name": "python",
   "nbconvert_exporter": "python",
   "pygments_lexer": "ipython2",
   "version": "2.7.9"
  }
 },
 "nbformat": 4,
 "nbformat_minor": 0
}

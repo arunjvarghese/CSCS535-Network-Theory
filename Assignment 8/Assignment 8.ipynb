{
 "cells": [
  {
   "cell_type": "code",
   "execution_count": 1,
   "metadata": {
    "collapsed": true
   },
   "outputs": [],
   "source": [
    "import networkx as nx\n",
    "from random import choice\n",
    "import random\n",
    "import matplotlib.pyplot as plt"
   ]
  },
  {
   "cell_type": "code",
   "execution_count": 2,
   "metadata": {
    "collapsed": false
   },
   "outputs": [],
   "source": [
    "num_edges = 25000\n",
    "edges = float(2*num_edges)/float(10000**2)\n",
    "G = nx.erdos_renyi_graph(10000,edges)"
   ]
  },
  {
   "cell_type": "code",
   "execution_count": 9,
   "metadata": {
    "collapsed": false
   },
   "outputs": [],
   "source": [
    "# MODEL\n",
    "\n",
    "periods = 100\n",
    "\n",
    "susceptible = [ node for node in G.nodes()]\n",
    "infected = []\n",
    "recovered = []\n",
    "psi = 0.4\n",
    "\n",
    "susceptible_hist = []\n",
    "infected_hist = []\n",
    "recovered_hist = []\n",
    "\n",
    "\n",
    "patient_zero = choice(G.nodes())\n",
    "susceptible.remove(patient_zero)\n",
    "infected.append(patient_zero)\n",
    "\n",
    "for t in range(1,periods):\n",
    "    \n",
    "    susceptible_hist.append(len(susceptible))\n",
    "    infected_hist.append(len(infected))\n",
    "    recovered_hist.append(len(recovered))\n",
    "    \n",
    "    \n",
    "    for vertex in infected:\n",
    "        for neighbor in G.neighbors(vertex):\n",
    "\n",
    "            if (random.random() < psi):\n",
    "                if (neighbor in susceptible):\n",
    "                    susceptible.remove(neighbor)\n",
    "                    infected.append(neighbor)\n",
    "\n",
    "        infected.remove(vertex)\n",
    "        recovered.append(vertex)"
   ]
  },
  {
   "cell_type": "code",
   "execution_count": 10,
   "metadata": {
    "collapsed": false
   },
   "outputs": [],
   "source": [
    "# Plot\n",
    "\n",
    "time = [t for t in range(1,periods)]\n",
    "\n",
    "plt.figure()\n",
    "plt.plot(time,susceptible_hist,'bv-')\n",
    "plt.plot(time,infected_hist,'ro-')\n",
    "plt.plot(time,recovered_hist,'gp-') # degree\n",
    "plt.legend(['Susceptible','Infected','Recovered'])\n",
    "plt.xlabel('Time')\n",
    "plt.ylabel('Number of nodes')\n",
    "plt.title('SIR Model')\n",
    "plt.savefig('SIR Model.pdf')\n",
    "plt.close()"
   ]
  },
  {
   "cell_type": "code",
   "execution_count": null,
   "metadata": {
    "collapsed": true
   },
   "outputs": [],
   "source": []
  }
 ],
 "metadata": {
  "kernelspec": {
   "display_name": "Python 2",
   "language": "python",
   "name": "python2"
  },
  "language_info": {
   "codemirror_mode": {
    "name": "ipython",
    "version": 2
   },
   "file_extension": ".py",
   "mimetype": "text/x-python",
   "name": "python",
   "nbconvert_exporter": "python",
   "pygments_lexer": "ipython2",
   "version": "2.7.10"
  }
 },
 "nbformat": 4,
 "nbformat_minor": 0
}
